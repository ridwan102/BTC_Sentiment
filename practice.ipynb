{
 "metadata": {
  "language_info": {
   "codemirror_mode": {
    "name": "ipython",
    "version": 3
   },
   "file_extension": ".py",
   "mimetype": "text/x-python",
   "name": "python",
   "nbconvert_exporter": "python",
   "pygments_lexer": "ipython3",
   "version": "3.8.5-final"
  },
  "orig_nbformat": 2,
  "kernelspec": {
   "name": "Python 3.8.5 64-bit ('metis': conda)",
   "display_name": "Python 3.8.5 64-bit ('metis': conda)",
   "metadata": {
    "interpreter": {
     "hash": "6c472b8915bc419c743ebcff76dbcf6e203ef99bf90689a3fba2566158d7e07a"
    }
   }
  }
 },
 "nbformat": 4,
 "nbformat_minor": 2,
 "cells": [
  {
   "source": [
    "## Bitcoin"
   ],
   "cell_type": "markdown",
   "metadata": {}
  },
  {
   "cell_type": "code",
   "execution_count": 2,
   "metadata": {},
   "outputs": [],
   "source": [
    "import pandas as pd, tweepy"
   ]
  },
  {
   "cell_type": "code",
   "execution_count": 1,
   "metadata": {},
   "outputs": [
    {
     "output_type": "stream",
     "name": "stdout",
     "text": [
      "2020-11-02 19:36:58.764  WARNING  snscrape.base  Error retrieving https://api.twitter.com/2/search/adaptive.json?include_profile_interstitial_type=1&include_blocking=1&include_blocked_by=1&include_followed_by=1&include_want_retweets=1&include_mute_edge=1&include_can_dm=1&include_can_media_tag=1&skip_status=1&cards_platform=Web-12&include_cards=1&include_composer_source=true&include_ext_alt_text=true&include_reply_count=1&tweet_mode=extended&include_entities=true&include_user_entities=true&include_ext_media_color=true&include_ext_media_availability=true&send_error_codes=true&simple_quoted_tweets=true&q=%23Bitcoin+since%3A2020-10-01+until%3A2020-11-01&tweet_search_mode=live&count=100&query_source=spelling_expansion_revert_click&cursor=scroll%3AthGAVUV0VFVBaOgLCdkL_k0CQWgoC1_fzXkdskEjUAFQAlABEVh5FUFYCJehgEVVNFUhUAFQAVARXoGhUAAA%3D%3D&pc=1&spelling_corrections=1&ext=mediaStats%252CcameraMoment: ReadTimeout(ReadTimeoutError(\"HTTPSConnectionPool(host='api.twitter.com', port=443): Read timed out. (read timeout=10)\")), retrying\n",
      "2020-11-02 19:36:59.781  WARNING  snscrape.base  Error retrieving https://api.twitter.com/2/search/adaptive.json?include_profile_interstitial_type=1&include_blocking=1&include_blocked_by=1&include_followed_by=1&include_want_retweets=1&include_mute_edge=1&include_can_dm=1&include_can_media_tag=1&skip_status=1&cards_platform=Web-12&include_cards=1&include_composer_source=true&include_ext_alt_text=true&include_reply_count=1&tweet_mode=extended&include_entities=true&include_user_entities=true&include_ext_media_color=true&include_ext_media_availability=true&send_error_codes=true&simple_quoted_tweets=true&q=%23Bitcoin+since%3A2020-10-01+until%3A2020-11-01&tweet_search_mode=live&count=100&query_source=spelling_expansion_revert_click&cursor=scroll%3AthGAVUV0VFVBaOgLCdkL_k0CQWgoC1_fzXkdskEjUAFQAlABEVh5FUFYCJehgEVVNFUhUAFQAVARXoGhUAAA%3D%3D&pc=1&spelling_corrections=1&ext=mediaStats%252CcameraMoment: ConnectionError(MaxRetryError(\"HTTPSConnectionPool(host='api.twitter.com', port=443): Max retries exceeded with url: /2/search/adaptive.json?include_profile_interstitial_type=1&include_blocking=1&include_blocked_by=1&include_followed_by=1&include_want_retweets=1&include_mute_edge=1&include_can_dm=1&include_can_media_tag=1&skip_status=1&cards_platform=Web-12&include_cards=1&include_composer_source=true&include_ext_alt_text=true&include_reply_count=1&tweet_mode=extended&include_entities=true&include_user_entities=true&include_ext_media_color=true&include_ext_media_availability=true&send_error_codes=true&simple_quoted_tweets=true&q=%23Bitcoin+since%3A2020-10-01+until%3A2020-11-01&tweet_search_mode=live&count=100&query_source=spelling_expansion_revert_click&cursor=scroll%3AthGAVUV0VFVBaOgLCdkL_k0CQWgoC1_fzXkdskEjUAFQAlABEVh5FUFYCJehgEVVNFUhUAFQAVARXoGhUAAA%3D%3D&pc=1&spelling_corrections=1&ext=mediaStats%252CcameraMoment (Caused by NewConnectionError('<urllib3.connection.HTTPSConnection object at 0x110c09e20>: Failed to establish a new connection: [Errno 8] nodename nor servname provided, or not known'))\")), retrying\n",
      "2020-11-02 19:37:01.793  WARNING  snscrape.base  Error retrieving https://api.twitter.com/2/search/adaptive.json?include_profile_interstitial_type=1&include_blocking=1&include_blocked_by=1&include_followed_by=1&include_want_retweets=1&include_mute_edge=1&include_can_dm=1&include_can_media_tag=1&skip_status=1&cards_platform=Web-12&include_cards=1&include_composer_source=true&include_ext_alt_text=true&include_reply_count=1&tweet_mode=extended&include_entities=true&include_user_entities=true&include_ext_media_color=true&include_ext_media_availability=true&send_error_codes=true&simple_quoted_tweets=true&q=%23Bitcoin+since%3A2020-10-01+until%3A2020-11-01&tweet_search_mode=live&count=100&query_source=spelling_expansion_revert_click&cursor=scroll%3AthGAVUV0VFVBaOgLCdkL_k0CQWgoC1_fzXkdskEjUAFQAlABEVh5FUFYCJehgEVVNFUhUAFQAVARXoGhUAAA%3D%3D&pc=1&spelling_corrections=1&ext=mediaStats%252CcameraMoment: ConnectionError(MaxRetryError(\"HTTPSConnectionPool(host='api.twitter.com', port=443): Max retries exceeded with url: /2/search/adaptive.json?include_profile_interstitial_type=1&include_blocking=1&include_blocked_by=1&include_followed_by=1&include_want_retweets=1&include_mute_edge=1&include_can_dm=1&include_can_media_tag=1&skip_status=1&cards_platform=Web-12&include_cards=1&include_composer_source=true&include_ext_alt_text=true&include_reply_count=1&tweet_mode=extended&include_entities=true&include_user_entities=true&include_ext_media_color=true&include_ext_media_availability=true&send_error_codes=true&simple_quoted_tweets=true&q=%23Bitcoin+since%3A2020-10-01+until%3A2020-11-01&tweet_search_mode=live&count=100&query_source=spelling_expansion_revert_click&cursor=scroll%3AthGAVUV0VFVBaOgLCdkL_k0CQWgoC1_fzXkdskEjUAFQAlABEVh5FUFYCJehgEVVNFUhUAFQAVARXoGhUAAA%3D%3D&pc=1&spelling_corrections=1&ext=mediaStats%252CcameraMoment (Caused by NewConnectionError('<urllib3.connection.HTTPSConnection object at 0x110c09700>: Failed to establish a new connection: [Errno 8] nodename nor servname provided, or not known'))\")), retrying\n",
      "2020-11-02 19:37:05.805  ERROR  snscrape.base  Error retrieving https://api.twitter.com/2/search/adaptive.json?include_profile_interstitial_type=1&include_blocking=1&include_blocked_by=1&include_followed_by=1&include_want_retweets=1&include_mute_edge=1&include_can_dm=1&include_can_media_tag=1&skip_status=1&cards_platform=Web-12&include_cards=1&include_composer_source=true&include_ext_alt_text=true&include_reply_count=1&tweet_mode=extended&include_entities=true&include_user_entities=true&include_ext_media_color=true&include_ext_media_availability=true&send_error_codes=true&simple_quoted_tweets=true&q=%23Bitcoin+since%3A2020-10-01+until%3A2020-11-01&tweet_search_mode=live&count=100&query_source=spelling_expansion_revert_click&cursor=scroll%3AthGAVUV0VFVBaOgLCdkL_k0CQWgoC1_fzXkdskEjUAFQAlABEVh5FUFYCJehgEVVNFUhUAFQAVARXoGhUAAA%3D%3D&pc=1&spelling_corrections=1&ext=mediaStats%252CcameraMoment: ConnectionError(MaxRetryError(\"HTTPSConnectionPool(host='api.twitter.com', port=443): Max retries exceeded with url: /2/search/adaptive.json?include_profile_interstitial_type=1&include_blocking=1&include_blocked_by=1&include_followed_by=1&include_want_retweets=1&include_mute_edge=1&include_can_dm=1&include_can_media_tag=1&skip_status=1&cards_platform=Web-12&include_cards=1&include_composer_source=true&include_ext_alt_text=true&include_reply_count=1&tweet_mode=extended&include_entities=true&include_user_entities=true&include_ext_media_color=true&include_ext_media_availability=true&send_error_codes=true&simple_quoted_tweets=true&q=%23Bitcoin+since%3A2020-10-01+until%3A2020-11-01&tweet_search_mode=live&count=100&query_source=spelling_expansion_revert_click&cursor=scroll%3AthGAVUV0VFVBaOgLCdkL_k0CQWgoC1_fzXkdskEjUAFQAlABEVh5FUFYCJehgEVVNFUhUAFQAVARXoGhUAAA%3D%3D&pc=1&spelling_corrections=1&ext=mediaStats%252CcameraMoment (Caused by NewConnectionError('<urllib3.connection.HTTPSConnection object at 0x110c099a0>: Failed to establish a new connection: [Errno 8] nodename nor servname provided, or not known'))\"))\n",
      "2020-11-02 19:37:05.805  CRITICAL  snscrape.base  4 requests to https://api.twitter.com/2/search/adaptive.json?include_profile_interstitial_type=1&include_blocking=1&include_blocked_by=1&include_followed_by=1&include_want_retweets=1&include_mute_edge=1&include_can_dm=1&include_can_media_tag=1&skip_status=1&cards_platform=Web-12&include_cards=1&include_composer_source=true&include_ext_alt_text=true&include_reply_count=1&tweet_mode=extended&include_entities=true&include_user_entities=true&include_ext_media_color=true&include_ext_media_availability=true&send_error_codes=true&simple_quoted_tweets=true&q=%23Bitcoin+since%3A2020-10-01+until%3A2020-11-01&tweet_search_mode=live&count=100&query_source=spelling_expansion_revert_click&cursor=scroll%3AthGAVUV0VFVBaOgLCdkL_k0CQWgoC1_fzXkdskEjUAFQAlABEVh5FUFYCJehgEVVNFUhUAFQAVARXoGhUAAA%3D%3D&pc=1&spelling_corrections=1&ext=mediaStats%252CcameraMoment failed, giving up.\n",
      "2020-11-02 19:37:05.961  CRITICAL  snscrape.cli  Dumped stack and locals to /var/folders/dc/wyg8cq3s3_j70zm25fkk6l3c0000gn/T/snscrape_locals_qn2urtd8\n",
      "Traceback (most recent call last):\n",
      "  File \"/opt/anaconda3/envs/metis/bin/snscrape\", line 8, in <module>\n",
      "    sys.exit(main())\n",
      "  File \"/opt/anaconda3/envs/metis/lib/python3.8/site-packages/snscrape/cli.py\", line 230, in main\n",
      "    for i, item in enumerate(scraper.get_items(), start = 1):\n",
      "  File \"/opt/anaconda3/envs/metis/lib/python3.8/site-packages/snscrape/modules/twitter.py\", line 168, in get_items\n",
      "    r = self._get('https://api.twitter.com/2/search/adaptive.json', params = params, headers = headers, responseOkCallback = self._check_scroll_response)\n",
      "  File \"/opt/anaconda3/envs/metis/lib/python3.8/site-packages/snscrape/base.py\", line 99, in _get\n",
      "    return self._request('GET', *args, **kwargs)\n",
      "  File \"/opt/anaconda3/envs/metis/lib/python3.8/site-packages/snscrape/base.py\", line 95, in _request\n",
      "    raise ScraperException(msg)\n",
      "snscrape.base.ScraperException: 4 requests to https://api.twitter.com/2/search/adaptive.json?include_profile_interstitial_type=1&include_blocking=1&include_blocked_by=1&include_followed_by=1&include_want_retweets=1&include_mute_edge=1&include_can_dm=1&include_can_media_tag=1&skip_status=1&cards_platform=Web-12&include_cards=1&include_composer_source=true&include_ext_alt_text=true&include_reply_count=1&tweet_mode=extended&include_entities=true&include_user_entities=true&include_ext_media_color=true&include_ext_media_availability=true&send_error_codes=true&simple_quoted_tweets=true&q=%23Bitcoin+since%3A2020-10-01+until%3A2020-11-01&tweet_search_mode=live&count=100&query_source=spelling_expansion_revert_click&cursor=scroll%3AthGAVUV0VFVBaOgLCdkL_k0CQWgoC1_fzXkdskEjUAFQAlABEVh5FUFYCJehgEVVNFUhUAFQAVARXoGhUAAA%3D%3D&pc=1&spelling_corrections=1&ext=mediaStats%252CcameraMoment failed, giving up.\n"
     ]
    }
   ],
   "source": [
    "!snscrape twitter-search \"#Bitcoin since:2020-10-01 until:2020-11-01\" > bitcoin_tweets.txt"
   ]
  },
  {
   "source": [
    "API Keys from Twitter Developer Account"
   ],
   "cell_type": "markdown",
   "metadata": {}
  },
  {
   "cell_type": "code",
   "execution_count": null,
   "metadata": {},
   "outputs": [],
   "source": [
    "consumer_key = \"QQQQQQQQQQQQQQQQQQQQQQQQQQQQQQ\" \n",
    "consumer_secret = \"UUUUUUUUUUUUUUUUUUUUUUUUUUU\" \n",
    "access_token = \"EEEEEEEEEEEEEEEEEEEEEEEEEEEEEEEE\" \n",
    "access_token_secret = \"NNNNNNNNNNNNNNNNNNNNNNNNN\"\n",
    "auth = tweepy.OAuthHandler(consumer_key, consumer_secret) \n",
    "auth.set_access_token(access_token, access_token_secret)\n",
    "api = tweepy.API(auth)"
   ]
  },
  {
   "source": [
    " Open .txt or .json using pandas.read_json or pandas.read_csv"
   ],
   "cell_type": "markdown",
   "metadata": {}
  },
  {
   "cell_type": "code",
   "execution_count": 3,
   "metadata": {},
   "outputs": [
    {
     "output_type": "execute_result",
     "data": {
      "text/plain": [
       "                                               links\n",
       "0  https://twitter.com/JoaoDMendes/status/1322689...\n",
       "1  https://twitter.com/Z06Z07/status/132268980142...\n",
       "2  https://twitter.com/PoisonI96460421/status/132...\n",
       "3  https://twitter.com/CryptoWatchBot/status/1322...\n",
       "4  https://twitter.com/planethardmoney/status/132..."
      ],
      "text/html": "<div>\n<style scoped>\n    .dataframe tbody tr th:only-of-type {\n        vertical-align: middle;\n    }\n\n    .dataframe tbody tr th {\n        vertical-align: top;\n    }\n\n    .dataframe thead th {\n        text-align: right;\n    }\n</style>\n<table border=\"1\" class=\"dataframe\">\n  <thead>\n    <tr style=\"text-align: right;\">\n      <th></th>\n      <th>links</th>\n    </tr>\n  </thead>\n  <tbody>\n    <tr>\n      <th>0</th>\n      <td>https://twitter.com/JoaoDMendes/status/1322689...</td>\n    </tr>\n    <tr>\n      <th>1</th>\n      <td>https://twitter.com/Z06Z07/status/132268980142...</td>\n    </tr>\n    <tr>\n      <th>2</th>\n      <td>https://twitter.com/PoisonI96460421/status/132...</td>\n    </tr>\n    <tr>\n      <th>3</th>\n      <td>https://twitter.com/CryptoWatchBot/status/1322...</td>\n    </tr>\n    <tr>\n      <th>4</th>\n      <td>https://twitter.com/planethardmoney/status/132...</td>\n    </tr>\n  </tbody>\n</table>\n</div>"
     },
     "metadata": {},
     "execution_count": 3
    }
   ],
   "source": [
    "tweet_url = pd.read_csv(\"bitcoin_tweets.txt\", index_col= None, header = None, names = [\"links\"])\n",
    "tweet_url.head()"
   ]
  },
  {
   "source": [
    " Extract tweet_id using .split function"
   ],
   "cell_type": "markdown",
   "metadata": {}
  },
  {
   "cell_type": "code",
   "execution_count": 9,
   "metadata": {},
   "outputs": [
    {
     "output_type": "execute_result",
     "data": {
      "text/plain": [
       "                                               links                   id\n",
       "0  https://twitter.com/JoaoDMendes/status/1322689...  1322689810381840385\n",
       "1  https://twitter.com/Z06Z07/status/132268980142...  1322689801422696450\n",
       "2  https://twitter.com/PoisonI96460421/status/132...  1322689799975653376\n",
       "3  https://twitter.com/CryptoWatchBot/status/1322...  1322689779755032577\n",
       "4  https://twitter.com/planethardmoney/status/132...  1322689752978624513"
      ],
      "text/html": "<div>\n<style scoped>\n    .dataframe tbody tr th:only-of-type {\n        vertical-align: middle;\n    }\n\n    .dataframe tbody tr th {\n        vertical-align: top;\n    }\n\n    .dataframe thead th {\n        text-align: right;\n    }\n</style>\n<table border=\"1\" class=\"dataframe\">\n  <thead>\n    <tr style=\"text-align: right;\">\n      <th></th>\n      <th>links</th>\n      <th>id</th>\n    </tr>\n  </thead>\n  <tbody>\n    <tr>\n      <th>0</th>\n      <td>https://twitter.com/JoaoDMendes/status/1322689...</td>\n      <td>1322689810381840385</td>\n    </tr>\n    <tr>\n      <th>1</th>\n      <td>https://twitter.com/Z06Z07/status/132268980142...</td>\n      <td>1322689801422696450</td>\n    </tr>\n    <tr>\n      <th>2</th>\n      <td>https://twitter.com/PoisonI96460421/status/132...</td>\n      <td>1322689799975653376</td>\n    </tr>\n    <tr>\n      <th>3</th>\n      <td>https://twitter.com/CryptoWatchBot/status/1322...</td>\n      <td>1322689779755032577</td>\n    </tr>\n    <tr>\n      <th>4</th>\n      <td>https://twitter.com/planethardmoney/status/132...</td>\n      <td>1322689752978624513</td>\n    </tr>\n  </tbody>\n</table>\n</div>"
     },
     "metadata": {},
     "execution_count": 9
    }
   ],
   "source": [
    "af = lambda x: x[\"links\"].split(\"/\")[-1]\n",
    "tweet_url['id'] = tweet_url.apply(af, axis=1)\n",
    "tweet_url.head()"
   ]
  },
  {
   "source": [
    "Convert tweet_url Series into list"
   ],
   "cell_type": "markdown",
   "metadata": {}
  },
  {
   "cell_type": "code",
   "execution_count": 10,
   "metadata": {},
   "outputs": [],
   "source": [
    "ids = tweet_url['id'].tolist()"
   ]
  },
  {
   "source": [
    "Issue looping through all ids, the API is giving an error. Therefore, process the ids by batch or chunks"
   ],
   "cell_type": "markdown",
   "metadata": {}
  },
  {
   "cell_type": "code",
   "execution_count": 11,
   "metadata": {},
   "outputs": [],
   "source": [
    "total_count = len(ids)\n",
    "chunks = (total_count - 1) // 50 + 1"
   ]
  },
  {
   "source": [
    "Create function that would extract all elements that we need from the tweet (username, date and the tweet). Add hashtags???"
   ],
   "cell_type": "markdown",
   "metadata": {}
  },
  {
   "cell_type": "code",
   "execution_count": 12,
   "metadata": {},
   "outputs": [],
   "source": [
    "def fetch_tw(ids):\n",
    "    list_of_tw_status = api.statuses_lookup(ids, tweet_mode= \"extended\")\n",
    "    empty_data = pd.DataFrame()\n",
    "    for status in list_of_tw_status:\n",
    "            tweet_elem = {\"tweet_id\": status.id,\n",
    "                     \"screen_name\": status.user.screen_name,\n",
    "                     \"tweet\":status.full_text,\n",
    "                     \"date\":status.created_at}\n",
    "            empty_data = empty_data.append(tweet_elem, ignore_index = True)\n",
    "    empty_data.to_csv(\"sherlock_tweets.csv\", mode=\"a\")"
   ]
  },
  {
   "source": [
    "Create another for loop to loop into our batches while processing 50 entries every loop. (That felt like a tongue twister)"
   ],
   "cell_type": "markdown",
   "metadata": {}
  },
  {
   "cell_type": "code",
   "execution_count": 13,
   "metadata": {},
   "outputs": [
    {
     "output_type": "error",
     "ename": "NameError",
     "evalue": "name 'api' is not defined",
     "traceback": [
      "\u001b[0;31m---------------------------------------------------------------------------\u001b[0m",
      "\u001b[0;31mNameError\u001b[0m                                 Traceback (most recent call last)",
      "\u001b[0;32m<ipython-input-13-7eef80f31206>\u001b[0m in \u001b[0;36m<module>\u001b[0;34m\u001b[0m\n\u001b[1;32m      1\u001b[0m \u001b[0;32mfor\u001b[0m \u001b[0mi\u001b[0m \u001b[0;32min\u001b[0m \u001b[0mrange\u001b[0m\u001b[0;34m(\u001b[0m\u001b[0mchunks\u001b[0m\u001b[0;34m)\u001b[0m\u001b[0;34m:\u001b[0m\u001b[0;34m\u001b[0m\u001b[0;34m\u001b[0m\u001b[0m\n\u001b[1;32m      2\u001b[0m         \u001b[0mbatch\u001b[0m \u001b[0;34m=\u001b[0m \u001b[0mids\u001b[0m\u001b[0;34m[\u001b[0m\u001b[0mi\u001b[0m\u001b[0;34m*\u001b[0m\u001b[0;36m50\u001b[0m\u001b[0;34m:\u001b[0m\u001b[0;34m(\u001b[0m\u001b[0mi\u001b[0m\u001b[0;34m+\u001b[0m\u001b[0;36m1\u001b[0m\u001b[0;34m)\u001b[0m\u001b[0;34m*\u001b[0m\u001b[0;36m50\u001b[0m\u001b[0;34m]\u001b[0m\u001b[0;34m\u001b[0m\u001b[0;34m\u001b[0m\u001b[0m\n\u001b[0;32m----> 3\u001b[0;31m         \u001b[0mresult\u001b[0m \u001b[0;34m=\u001b[0m \u001b[0mfetch_tw\u001b[0m\u001b[0;34m(\u001b[0m\u001b[0mbatch\u001b[0m\u001b[0;34m)\u001b[0m\u001b[0;34m\u001b[0m\u001b[0;34m\u001b[0m\u001b[0m\n\u001b[0m",
      "\u001b[0;32m<ipython-input-12-56070516e3ee>\u001b[0m in \u001b[0;36mfetch_tw\u001b[0;34m(ids)\u001b[0m\n\u001b[1;32m      1\u001b[0m \u001b[0;32mdef\u001b[0m \u001b[0mfetch_tw\u001b[0m\u001b[0;34m(\u001b[0m\u001b[0mids\u001b[0m\u001b[0;34m)\u001b[0m\u001b[0;34m:\u001b[0m\u001b[0;34m\u001b[0m\u001b[0;34m\u001b[0m\u001b[0m\n\u001b[0;32m----> 2\u001b[0;31m     \u001b[0mlist_of_tw_status\u001b[0m \u001b[0;34m=\u001b[0m \u001b[0mapi\u001b[0m\u001b[0;34m.\u001b[0m\u001b[0mstatuses_lookup\u001b[0m\u001b[0;34m(\u001b[0m\u001b[0mids\u001b[0m\u001b[0;34m,\u001b[0m \u001b[0mtweet_mode\u001b[0m\u001b[0;34m=\u001b[0m \u001b[0;34m\"extended\"\u001b[0m\u001b[0;34m)\u001b[0m\u001b[0;34m\u001b[0m\u001b[0;34m\u001b[0m\u001b[0m\n\u001b[0m\u001b[1;32m      3\u001b[0m     \u001b[0mempty_data\u001b[0m \u001b[0;34m=\u001b[0m \u001b[0mpd\u001b[0m\u001b[0;34m.\u001b[0m\u001b[0mDataFrame\u001b[0m\u001b[0;34m(\u001b[0m\u001b[0;34m)\u001b[0m\u001b[0;34m\u001b[0m\u001b[0;34m\u001b[0m\u001b[0m\n\u001b[1;32m      4\u001b[0m     \u001b[0;32mfor\u001b[0m \u001b[0mstatus\u001b[0m \u001b[0;32min\u001b[0m \u001b[0mlist_of_tw_status\u001b[0m\u001b[0;34m:\u001b[0m\u001b[0;34m\u001b[0m\u001b[0;34m\u001b[0m\u001b[0m\n\u001b[1;32m      5\u001b[0m             tweet_elem = {\"tweet_id\": status.id,\n",
      "\u001b[0;31mNameError\u001b[0m: name 'api' is not defined"
     ]
    }
   ],
   "source": [
    "for i in range(chunks):\n",
    "        batch = ids[i*50:(i+1)*50]\n",
    "        result = fetch_tw(batch)"
   ]
  },
  {
   "cell_type": "code",
   "execution_count": null,
   "metadata": {},
   "outputs": [],
   "source": []
  }
 ]
}