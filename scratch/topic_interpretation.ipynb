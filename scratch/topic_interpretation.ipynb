{
 "metadata": {
  "language_info": {
   "codemirror_mode": {
    "name": "ipython",
    "version": 3
   },
   "file_extension": ".py",
   "mimetype": "text/x-python",
   "name": "python",
   "nbconvert_exporter": "python",
   "pygments_lexer": "ipython3",
   "version": "3.8.5-final"
  },
  "orig_nbformat": 2,
  "kernelspec": {
   "name": "Python 3.8.5 64-bit ('metis': conda)",
   "display_name": "Python 3.8.5 64-bit ('metis': conda)",
   "metadata": {
    "interpreter": {
     "hash": "6c472b8915bc419c743ebcff76dbcf6e203ef99bf90689a3fba2566158d7e07a"
    }
   }
  }
 },
 "nbformat": 4,
 "nbformat_minor": 2,
 "cells": [
  {
   "cell_type": "code",
   "execution_count": 1,
   "metadata": {},
   "outputs": [],
   "source": [
    "import pandas as pd\n",
    "import numpy as np\n",
    "\n",
    "from sklearn.feature_extraction.text import TfidfVectorizer, ENGLISH_STOP_WORDS\n",
    "from sklearn.decomposition import NMF"
   ]
  },
  {
   "cell_type": "code",
   "execution_count": 2,
   "metadata": {},
   "outputs": [],
   "source": [
    "df_tweets = pd.read_csv('./data/btc_tweets_cleaned.csv')"
   ]
  },
  {
   "cell_type": "code",
   "execution_count": 3,
   "metadata": {},
   "outputs": [],
   "source": [
    "corpus = df_tweets['tweet'].fillna(value='')"
   ]
  },
  {
   "cell_type": "code",
   "execution_count": 4,
   "metadata": {},
   "outputs": [
    {
     "output_type": "stream",
     "name": "stdout",
     "text": [
      "square remix cool thing input file transparent transparent tons possibilities like witht logo vritual guts kinda\n\nblockchain ayuda combatir las estafas fraude brasil dice experto\n\nyear shaping special\n\nbtc breaking structure test\n\ntargets\n\nroyal defi airdrop liveclick link participate amazing rewards rld value referral\n\ngold going loser break downtrending stock market going higher higher people investing head checked\n\nfollow let hunt bitcoins exciting experience gaming platform dividends username bitcoinbre\n\ndctbuy btc sell btc ratio\n\n lees mal hace aos que existe los aos que quedan\n\n"
     ]
    }
   ],
   "source": [
    "for tweet in df_tweets['tweet'].sample(10).values:\n",
    "    print(tweet)\n",
    "    print()"
   ]
  },
  {
   "cell_type": "code",
   "execution_count": 5,
   "metadata": {},
   "outputs": [],
   "source": [
    "stop_words = ENGLISH_STOP_WORDS.union(['bitcoin'])"
   ]
  },
  {
   "cell_type": "code",
   "execution_count": 6,
   "metadata": {},
   "outputs": [],
   "source": [
    "tfidf = TfidfVectorizer(stop_words=stop_words,min_df=0.0002)\n",
    "\n",
    "tweet_word_matrix = tfidf.fit_transform(corpus)\n",
    "\n",
    "vocab = tfidf.get_feature_names()"
   ]
  },
  {
   "source": [
    "## NMF"
   ],
   "cell_type": "markdown",
   "metadata": {}
  },
  {
   "cell_type": "code",
   "execution_count": 13,
   "metadata": {},
   "outputs": [
    {
     "output_type": "execute_result",
     "data": {
      "text/plain": [
       "NMF(n_components=4)"
      ]
     },
     "metadata": {},
     "execution_count": 13
    }
   ],
   "source": [
    "nmf = NMF(n_components=4)\n",
    "nmf.fit(tweet_word_matrix)"
   ]
  },
  {
   "source": [
    "### Tweet/Topic Matrix"
   ],
   "cell_type": "markdown",
   "metadata": {}
  },
  {
   "cell_type": "code",
   "execution_count": 14,
   "metadata": {},
   "outputs": [],
   "source": [
    "tweet_topic_matrix = nmf.transform(tweet_word_matrix)"
   ]
  },
  {
   "cell_type": "code",
   "execution_count": 15,
   "metadata": {},
   "outputs": [
    {
     "output_type": "execute_result",
     "data": {
      "text/plain": [
       "    topic_0   topic_1   topic_2   topic_3  \\\n",
       "0  0.008427  0.000007  0.000000  0.175026   \n",
       "1  0.000000  0.000649  0.001778  0.000039   \n",
       "2  0.000000  0.000000  0.128482  0.000000   \n",
       "3  0.150875  0.000000  0.000000  0.000000   \n",
       "4  0.000000  0.000000  0.000000  0.000000   \n",
       "\n",
       "                                               tweet  \\\n",
       "0  yworld finance airdrop liveclick link particip...   \n",
       "1                                      makes new ath   \n",
       "2                                    btc usd btc usd   \n",
       "3  royal defi airdrop liveclick link participate ...   \n",
       "4                                                NaN   \n",
       "\n",
       "                                              tokens  \n",
       "0  ['yworld', 'finance', 'airdrop', 'liveclick', ...  \n",
       "1                            ['makes', 'new', 'ath']  \n",
       "2                       ['btc', 'usd', 'btc', 'usd']  \n",
       "3  ['royal', 'defi', 'airdrop', 'liveclick', 'lin...  \n",
       "4                                                 []  "
      ],
      "text/html": "<div>\n<style scoped>\n    .dataframe tbody tr th:only-of-type {\n        vertical-align: middle;\n    }\n\n    .dataframe tbody tr th {\n        vertical-align: top;\n    }\n\n    .dataframe thead th {\n        text-align: right;\n    }\n</style>\n<table border=\"1\" class=\"dataframe\">\n  <thead>\n    <tr style=\"text-align: right;\">\n      <th></th>\n      <th>topic_0</th>\n      <th>topic_1</th>\n      <th>topic_2</th>\n      <th>topic_3</th>\n      <th>tweet</th>\n      <th>tokens</th>\n    </tr>\n  </thead>\n  <tbody>\n    <tr>\n      <th>0</th>\n      <td>0.008427</td>\n      <td>0.000007</td>\n      <td>0.000000</td>\n      <td>0.175026</td>\n      <td>yworld finance airdrop liveclick link particip...</td>\n      <td>['yworld', 'finance', 'airdrop', 'liveclick', ...</td>\n    </tr>\n    <tr>\n      <th>1</th>\n      <td>0.000000</td>\n      <td>0.000649</td>\n      <td>0.001778</td>\n      <td>0.000039</td>\n      <td>makes new ath</td>\n      <td>['makes', 'new', 'ath']</td>\n    </tr>\n    <tr>\n      <th>2</th>\n      <td>0.000000</td>\n      <td>0.000000</td>\n      <td>0.128482</td>\n      <td>0.000000</td>\n      <td>btc usd btc usd</td>\n      <td>['btc', 'usd', 'btc', 'usd']</td>\n    </tr>\n    <tr>\n      <th>3</th>\n      <td>0.150875</td>\n      <td>0.000000</td>\n      <td>0.000000</td>\n      <td>0.000000</td>\n      <td>royal defi airdrop liveclick link participate ...</td>\n      <td>['royal', 'defi', 'airdrop', 'liveclick', 'lin...</td>\n    </tr>\n    <tr>\n      <th>4</th>\n      <td>0.000000</td>\n      <td>0.000000</td>\n      <td>0.000000</td>\n      <td>0.000000</td>\n      <td>NaN</td>\n      <td>[]</td>\n    </tr>\n  </tbody>\n</table>\n</div>"
     },
     "metadata": {},
     "execution_count": 15
    }
   ],
   "source": [
    "tweet_topic_matrix_df = pd.DataFrame(tweet_topic_matrix).add_prefix('topic_')\n",
    "\n",
    "tweet_topic_matrix_df[['tweet', 'tokens']] = df_tweets[['tweet', 'tokens']]\n",
    "tweet_topic_matrix_df.head()"
   ]
  },
  {
   "source": [
    "### Word/Topic Matrix"
   ],
   "cell_type": "markdown",
   "metadata": {}
  },
  {
   "cell_type": "code",
   "execution_count": 16,
   "metadata": {},
   "outputs": [
    {
     "output_type": "execute_result",
     "data": {
      "text/plain": [
       "             topic_0   topic_1   topic_2       topic_3\n",
       "aan         0.000000  0.000111  0.000417  0.000000e+00\n",
       "aapl        0.000000  0.000022  0.000288  1.503593e-07\n",
       "aave        0.000049  0.000000  0.003653  1.378159e-04\n",
       "abajo       0.000000  0.000000  0.000419  0.000000e+00\n",
       "abd         0.000000  0.000000  0.001129  0.000000e+00\n",
       "...              ...       ...       ...           ...\n",
       "zrx         0.000065  0.000010  0.002475  2.056288e-04\n",
       "zuckerberg  0.000000  0.000090  0.000203  2.211700e-06\n",
       "zukunft     0.000000  0.001072  0.000082  0.000000e+00\n",
       "zum         0.000000  0.003091  0.001185  1.818430e-06\n",
       "zur         0.000000  0.000023  0.000167  0.000000e+00\n",
       "\n",
       "[4160 rows x 4 columns]"
      ],
      "text/html": "<div>\n<style scoped>\n    .dataframe tbody tr th:only-of-type {\n        vertical-align: middle;\n    }\n\n    .dataframe tbody tr th {\n        vertical-align: top;\n    }\n\n    .dataframe thead th {\n        text-align: right;\n    }\n</style>\n<table border=\"1\" class=\"dataframe\">\n  <thead>\n    <tr style=\"text-align: right;\">\n      <th></th>\n      <th>topic_0</th>\n      <th>topic_1</th>\n      <th>topic_2</th>\n      <th>topic_3</th>\n    </tr>\n  </thead>\n  <tbody>\n    <tr>\n      <th>aan</th>\n      <td>0.000000</td>\n      <td>0.000111</td>\n      <td>0.000417</td>\n      <td>0.000000e+00</td>\n    </tr>\n    <tr>\n      <th>aapl</th>\n      <td>0.000000</td>\n      <td>0.000022</td>\n      <td>0.000288</td>\n      <td>1.503593e-07</td>\n    </tr>\n    <tr>\n      <th>aave</th>\n      <td>0.000049</td>\n      <td>0.000000</td>\n      <td>0.003653</td>\n      <td>1.378159e-04</td>\n    </tr>\n    <tr>\n      <th>abajo</th>\n      <td>0.000000</td>\n      <td>0.000000</td>\n      <td>0.000419</td>\n      <td>0.000000e+00</td>\n    </tr>\n    <tr>\n      <th>abd</th>\n      <td>0.000000</td>\n      <td>0.000000</td>\n      <td>0.001129</td>\n      <td>0.000000e+00</td>\n    </tr>\n    <tr>\n      <th>...</th>\n      <td>...</td>\n      <td>...</td>\n      <td>...</td>\n      <td>...</td>\n    </tr>\n    <tr>\n      <th>zrx</th>\n      <td>0.000065</td>\n      <td>0.000010</td>\n      <td>0.002475</td>\n      <td>2.056288e-04</td>\n    </tr>\n    <tr>\n      <th>zuckerberg</th>\n      <td>0.000000</td>\n      <td>0.000090</td>\n      <td>0.000203</td>\n      <td>2.211700e-06</td>\n    </tr>\n    <tr>\n      <th>zukunft</th>\n      <td>0.000000</td>\n      <td>0.001072</td>\n      <td>0.000082</td>\n      <td>0.000000e+00</td>\n    </tr>\n    <tr>\n      <th>zum</th>\n      <td>0.000000</td>\n      <td>0.003091</td>\n      <td>0.001185</td>\n      <td>1.818430e-06</td>\n    </tr>\n    <tr>\n      <th>zur</th>\n      <td>0.000000</td>\n      <td>0.000023</td>\n      <td>0.000167</td>\n      <td>0.000000e+00</td>\n    </tr>\n  </tbody>\n</table>\n<p>4160 rows × 4 columns</p>\n</div>"
     },
     "metadata": {},
     "execution_count": 16
    }
   ],
   "source": [
    "word_topic_matrix_df = pd.DataFrame(nmf.components_, columns=vocab).T.add_prefix('topic_')\n",
    "word_topic_matrix_df"
   ]
  },
  {
   "source": [
    "## Topic Interpretation"
   ],
   "cell_type": "markdown",
   "metadata": {}
  },
  {
   "cell_type": "code",
   "execution_count": 17,
   "metadata": {},
   "outputs": [
    {
     "output_type": "stream",
     "name": "stdout",
     "text": [
      "royal defi airdrop liveclick link participate amazing rewards rld value referral\n\nroyal defi airdrop liveclick link participate amazing rewards rld value referral\n\nroyal defi airdrop liveclick link participate amazing rewards rld value referral\n\nroyal defi airdrop liveclick link participate amazing rewards rld value referral\n\nroyal defi airdrop liveclick link participate amazing rewards rld value referral\n\nroyal defi airdrop liveclick link participate amazing rewards rld value referral\n\nroyal defi airdrop liveclick link participate amazing rewards rld value referral\n\nroyal defi airdrop liveclick link participate amazing rewards rld value referral\n\nroyal defi airdrop liveclick link participate amazing rewards rld value referral\n\nroyal defi airdrop liveclick link participate amazing rewards rld value referral\n\n"
     ]
    }
   ],
   "source": [
    "for tweet in tweet_topic_matrix_df.sort_values(by='topic_0', ascending=False).head(10)['tweet'].values:\n",
    "    print(tweet)\n",
    "    print()"
   ]
  },
  {
   "cell_type": "code",
   "execution_count": 18,
   "metadata": {},
   "outputs": [
    {
     "output_type": "execute_result",
     "data": {
      "text/plain": [
       "              topic_0   topic_1   topic_2   topic_3\n",
       "rld          2.240378  0.000000  0.000000  0.000000\n",
       "royal        2.233455  0.000000  0.000000  0.000000\n",
       "defi         2.219397  0.000000  0.001085  0.000000\n",
       "liveclick    1.925286  0.000000  0.000000  1.179759\n",
       "rewards      1.918888  0.000000  0.000000  1.180568\n",
       "participate  1.916131  0.000000  0.000000  1.187234\n",
       "airdrop      1.909415  0.000000  0.000000  1.185873\n",
       "amazing      1.908919  0.006455  0.000000  1.183240\n",
       "referral     1.902039  0.000000  0.000000  1.177803\n",
       "value        1.896742  0.000020  0.000574  1.166125"
      ],
      "text/html": "<div>\n<style scoped>\n    .dataframe tbody tr th:only-of-type {\n        vertical-align: middle;\n    }\n\n    .dataframe tbody tr th {\n        vertical-align: top;\n    }\n\n    .dataframe thead th {\n        text-align: right;\n    }\n</style>\n<table border=\"1\" class=\"dataframe\">\n  <thead>\n    <tr style=\"text-align: right;\">\n      <th></th>\n      <th>topic_0</th>\n      <th>topic_1</th>\n      <th>topic_2</th>\n      <th>topic_3</th>\n    </tr>\n  </thead>\n  <tbody>\n    <tr>\n      <th>rld</th>\n      <td>2.240378</td>\n      <td>0.000000</td>\n      <td>0.000000</td>\n      <td>0.000000</td>\n    </tr>\n    <tr>\n      <th>royal</th>\n      <td>2.233455</td>\n      <td>0.000000</td>\n      <td>0.000000</td>\n      <td>0.000000</td>\n    </tr>\n    <tr>\n      <th>defi</th>\n      <td>2.219397</td>\n      <td>0.000000</td>\n      <td>0.001085</td>\n      <td>0.000000</td>\n    </tr>\n    <tr>\n      <th>liveclick</th>\n      <td>1.925286</td>\n      <td>0.000000</td>\n      <td>0.000000</td>\n      <td>1.179759</td>\n    </tr>\n    <tr>\n      <th>rewards</th>\n      <td>1.918888</td>\n      <td>0.000000</td>\n      <td>0.000000</td>\n      <td>1.180568</td>\n    </tr>\n    <tr>\n      <th>participate</th>\n      <td>1.916131</td>\n      <td>0.000000</td>\n      <td>0.000000</td>\n      <td>1.187234</td>\n    </tr>\n    <tr>\n      <th>airdrop</th>\n      <td>1.909415</td>\n      <td>0.000000</td>\n      <td>0.000000</td>\n      <td>1.185873</td>\n    </tr>\n    <tr>\n      <th>amazing</th>\n      <td>1.908919</td>\n      <td>0.006455</td>\n      <td>0.000000</td>\n      <td>1.183240</td>\n    </tr>\n    <tr>\n      <th>referral</th>\n      <td>1.902039</td>\n      <td>0.000000</td>\n      <td>0.000000</td>\n      <td>1.177803</td>\n    </tr>\n    <tr>\n      <th>value</th>\n      <td>1.896742</td>\n      <td>0.000020</td>\n      <td>0.000574</td>\n      <td>1.166125</td>\n    </tr>\n  </tbody>\n</table>\n</div>"
     },
     "metadata": {},
     "execution_count": 18
    }
   ],
   "source": [
    "word_topic_matrix_df.sort_values(by='topic_0', ascending=False).head(10)"
   ]
  },
  {
   "source": [
    "Topic 0: Hype Topics. To get people into buying the coin"
   ],
   "cell_type": "markdown",
   "metadata": {}
  },
  {
   "cell_type": "code",
   "execution_count": 19,
   "metadata": {},
   "outputs": [],
   "source": [
    "def top_tweets(tweet_topic_matrix_df, topic, n_tweets):\n",
    "    return (tweet_topic_matrix_df\n",
    "            .sort_values(by=topic, ascending=False)\n",
    "            .head(n_tweets)['tweet']\n",
    "            .values)\n",
    "\n",
    "def top_words(word_topic_matrix_df, topic, n_words):\n",
    "    return (word_topic_matrix_df\n",
    "            .sort_values(by=topic, ascending=False)\n",
    "            .head(n_words))[topic]"
   ]
  },
  {
   "cell_type": "code",
   "execution_count": 20,
   "metadata": {},
   "outputs": [
    {
     "output_type": "stream",
     "name": "stdout",
     "text": [
      "happy birthday\n\nhappy birthday\n\nhappy birthday\n\nhappy birthday\n\nhappy birthday\n\n"
     ]
    }
   ],
   "source": [
    "for tweet in top_tweets(tweet_topic_matrix_df, 'topic_1', 5):\n",
    "    print(tweet)\n",
    "    print()"
   ]
  },
  {
   "cell_type": "code",
   "execution_count": 21,
   "metadata": {},
   "outputs": [
    {
     "output_type": "execute_result",
     "data": {
      "text/plain": [
       "happy          3.492126\n",
       "birthday       3.102443\n",
       "whitepaper     0.395779\n",
       "day            0.378784\n",
       "paper          0.354763\n",
       "white          0.351575\n",
       "halloween      0.282809\n",
       "anniversary    0.280153\n",
       "years          0.214211\n",
       "today          0.176119\n",
       "Name: topic_1, dtype: float64"
      ]
     },
     "metadata": {},
     "execution_count": 21
    }
   ],
   "source": [
    "top_words(word_topic_matrix_df, 'topic_1', 10)"
   ]
  },
  {
   "source": [
    "Topic 1 is celebrating Bitcoin and when the white paper was initially released"
   ],
   "cell_type": "markdown",
   "metadata": {}
  },
  {
   "cell_type": "code",
   "execution_count": 22,
   "metadata": {},
   "outputs": [
    {
     "output_type": "stream",
     "name": "stdout",
     "text": [
      "nexobuy btc sell btc ratio buy btc sell btc ratio\n\napmbuy btc sell btc ratio buy btc sell btc ratio\n\nspndbuy btc sell btc ratio buy btc sell btc ratio\n\ndmtbuy btc sell btc ratio buy btc sell btc ratio\n\nlbabuy btc sell btc ratio buy btc sell btc ratio\n\n"
     ]
    }
   ],
   "source": [
    "for tweet in top_tweets(tweet_topic_matrix_df, 'topic_2', 5):\n",
    "    print(tweet)\n",
    "    print()"
   ]
  },
  {
   "cell_type": "code",
   "execution_count": 23,
   "metadata": {},
   "outputs": [
    {
     "output_type": "execute_result",
     "data": {
      "text/plain": [
       "btc       2.818284\n",
       "ratio     1.462735\n",
       "sell      1.448496\n",
       "usdt      0.940785\n",
       "buy       0.514024\n",
       "price     0.344469\n",
       "eth       0.327537\n",
       "usd       0.263669\n",
       "update    0.181514\n",
       "yen       0.150736\n",
       "Name: topic_2, dtype: float64"
      ]
     },
     "metadata": {},
     "execution_count": 23
    }
   ],
   "source": [
    "top_words(word_topic_matrix_df, 'topic_2', 10)"
   ]
  },
  {
   "source": [
    "Topic 3: Seems to be talking about the update on Bitcoins price and what will happen to it "
   ],
   "cell_type": "markdown",
   "metadata": {}
  },
  {
   "cell_type": "code",
   "execution_count": 24,
   "metadata": {},
   "outputs": [
    {
     "output_type": "stream",
     "name": "stdout",
     "text": [
      "hugeswap airdrop liveclick link participate amazing rewards huswap value referral\n\nhugeswap airdrop liveclick link participate amazing rewards huswap value referral\n\nhugeswap airdrop liveclick link participate amazing rewards huswap value referral\n\nhugeswap airdrop liveclick link participate amazing rewards huswap value referral\n\nhugeswap airdrop liveclick link participate amazing rewards huswap value referral\n\n"
     ]
    }
   ],
   "source": [
    "for tweet in top_tweets(tweet_topic_matrix_df, 'topic_3', 5):\n",
    "    print(tweet)\n",
    "    print()"
   ]
  },
  {
   "cell_type": "code",
   "execution_count": 25,
   "metadata": {},
   "outputs": [
    {
     "output_type": "execute_result",
     "data": {
      "text/plain": [
       "btc       2.818284\n",
       "ratio     1.462735\n",
       "sell      1.448496\n",
       "usdt      0.940785\n",
       "buy       0.514024\n",
       "price     0.344469\n",
       "eth       0.327537\n",
       "usd       0.263669\n",
       "update    0.181514\n",
       "yen       0.150736\n",
       "Name: topic_2, dtype: float64"
      ]
     },
     "metadata": {},
     "execution_count": 25
    }
   ],
   "source": [
    "top_words(word_topic_matrix_df, 'topic_2', 10)"
   ]
  },
  {
   "cell_type": "code",
   "execution_count": null,
   "metadata": {},
   "outputs": [],
   "source": []
  }
 ]
}