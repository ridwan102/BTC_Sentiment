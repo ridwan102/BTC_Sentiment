{
 "metadata": {
  "language_info": {
   "codemirror_mode": {
    "name": "ipython",
    "version": 3
   },
   "file_extension": ".py",
   "mimetype": "text/x-python",
   "name": "python",
   "nbconvert_exporter": "python",
   "pygments_lexer": "ipython3",
   "version": "3.8.5-final"
  },
  "orig_nbformat": 2,
  "kernelspec": {
   "name": "Python 3.8.5 64-bit ('metis': conda)",
   "display_name": "Python 3.8.5 64-bit ('metis': conda)",
   "metadata": {
    "interpreter": {
     "hash": "6c472b8915bc419c743ebcff76dbcf6e203ef99bf90689a3fba2566158d7e07a"
    }
   }
  }
 },
 "nbformat": 4,
 "nbformat_minor": 2,
 "cells": [
  {
   "cell_type": "code",
   "execution_count": 7,
   "metadata": {},
   "outputs": [],
   "source": [
    "import pandas as pd\n",
    "import numpy as np\n",
    "\n",
    "from sklearn.feature_extraction.text import TfidfVectorizer, ENGLISH_STOP_WORDS\n",
    "from sklearn.decomposition import NMF"
   ]
  },
  {
   "cell_type": "code",
   "execution_count": 2,
   "metadata": {},
   "outputs": [],
   "source": [
    "df_tweets = pd.read_csv('./data/btc_tweets_cleaned.csv')"
   ]
  },
  {
   "cell_type": "code",
   "execution_count": 4,
   "metadata": {},
   "outputs": [],
   "source": [
    "corpus = df_tweets['tweet'].fillna(value='')"
   ]
  },
  {
   "cell_type": "code",
   "execution_count": 5,
   "metadata": {},
   "outputs": [
    {
     "output_type": "stream",
     "name": "stdout",
     "text": [
      "narrative working cash exchange value social contract like cash cash fast primary feature try deposit cash shop bank tell fast\n\nblack swap airdrop liveclick link participate amazing rewards bls value referral\n\nroyal defi airdrop liveclick link participate amazing rewards rld value referral\n\nyworld finance airdrop liveclick link participate amazing rewards ywld value referral\n\nnan\n\nspeed finance airdrop liveclick link participate amazing rewards spfi value referral\n\nvote trump buy\n\nroyal defi airdrop liveclick link participate amazing rewards rld value referral\n\namazing artwork\n\nnan\n\n"
     ]
    }
   ],
   "source": [
    "for tweet in df_tweets['tweet'].sample(10).values:\n",
    "    print(tweet)\n",
    "    print()"
   ]
  },
  {
   "cell_type": "code",
   "execution_count": 8,
   "metadata": {},
   "outputs": [],
   "source": [
    "stop_words = ENGLISH_STOP_WORDS.union(['bitcoin'])"
   ]
  },
  {
   "cell_type": "code",
   "execution_count": 18,
   "metadata": {},
   "outputs": [],
   "source": [
    "tfidf = TfidfVectorizer(stop_words=stop_words,min_df=0.0002)\n",
    "\n",
    "tweet_word_matrix = tfidf.fit_transform(corpus)\n",
    "\n",
    "vocab = tfidf.get_feature_names()"
   ]
  },
  {
   "source": [
    "## NMF"
   ],
   "cell_type": "markdown",
   "metadata": {}
  },
  {
   "cell_type": "code",
   "execution_count": 63,
   "metadata": {},
   "outputs": [
    {
     "output_type": "execute_result",
     "data": {
      "text/plain": [
       "NMF(n_components=3)"
      ]
     },
     "metadata": {},
     "execution_count": 63
    }
   ],
   "source": [
    "nmf = NMF(n_components=3)\n",
    "nmf.fit(tweet_word_matrix)"
   ]
  },
  {
   "source": [
    "### Tweet/Topic Matrix"
   ],
   "cell_type": "markdown",
   "metadata": {}
  },
  {
   "cell_type": "code",
   "execution_count": 64,
   "metadata": {},
   "outputs": [],
   "source": [
    "tweet_topic_matrix = nmf.transform(tweet_word_matrix)"
   ]
  },
  {
   "cell_type": "code",
   "execution_count": 65,
   "metadata": {},
   "outputs": [
    {
     "output_type": "execute_result",
     "data": {
      "text/plain": [
       "    topic_0  topic_1   topic_2  \\\n",
       "0  0.089789  0.00011  0.000060   \n",
       "1  0.000010  0.00065  0.001778   \n",
       "2  0.000000  0.00000  0.128480   \n",
       "3  0.145310  0.00000  0.000000   \n",
       "4  0.000000  0.00000  0.000000   \n",
       "\n",
       "                                               tweet  \\\n",
       "0  yworld finance airdrop liveclick link particip...   \n",
       "1                                      makes new ath   \n",
       "2                                    btc usd btc usd   \n",
       "3  royal defi airdrop liveclick link participate ...   \n",
       "4                                                NaN   \n",
       "\n",
       "                                              tokens  \n",
       "0  ['yworld', 'finance', 'airdrop', 'liveclick', ...  \n",
       "1                            ['makes', 'new', 'ath']  \n",
       "2                       ['btc', 'usd', 'btc', 'usd']  \n",
       "3  ['royal', 'defi', 'airdrop', 'liveclick', 'lin...  \n",
       "4                                                 []  "
      ],
      "text/html": "<div>\n<style scoped>\n    .dataframe tbody tr th:only-of-type {\n        vertical-align: middle;\n    }\n\n    .dataframe tbody tr th {\n        vertical-align: top;\n    }\n\n    .dataframe thead th {\n        text-align: right;\n    }\n</style>\n<table border=\"1\" class=\"dataframe\">\n  <thead>\n    <tr style=\"text-align: right;\">\n      <th></th>\n      <th>topic_0</th>\n      <th>topic_1</th>\n      <th>topic_2</th>\n      <th>tweet</th>\n      <th>tokens</th>\n    </tr>\n  </thead>\n  <tbody>\n    <tr>\n      <th>0</th>\n      <td>0.089789</td>\n      <td>0.00011</td>\n      <td>0.000060</td>\n      <td>yworld finance airdrop liveclick link particip...</td>\n      <td>['yworld', 'finance', 'airdrop', 'liveclick', ...</td>\n    </tr>\n    <tr>\n      <th>1</th>\n      <td>0.000010</td>\n      <td>0.00065</td>\n      <td>0.001778</td>\n      <td>makes new ath</td>\n      <td>['makes', 'new', 'ath']</td>\n    </tr>\n    <tr>\n      <th>2</th>\n      <td>0.000000</td>\n      <td>0.00000</td>\n      <td>0.128480</td>\n      <td>btc usd btc usd</td>\n      <td>['btc', 'usd', 'btc', 'usd']</td>\n    </tr>\n    <tr>\n      <th>3</th>\n      <td>0.145310</td>\n      <td>0.00000</td>\n      <td>0.000000</td>\n      <td>royal defi airdrop liveclick link participate ...</td>\n      <td>['royal', 'defi', 'airdrop', 'liveclick', 'lin...</td>\n    </tr>\n    <tr>\n      <th>4</th>\n      <td>0.000000</td>\n      <td>0.00000</td>\n      <td>0.000000</td>\n      <td>NaN</td>\n      <td>[]</td>\n    </tr>\n  </tbody>\n</table>\n</div>"
     },
     "metadata": {},
     "execution_count": 65
    }
   ],
   "source": [
    "tweet_topic_matrix_df = pd.DataFrame(tweet_topic_matrix).add_prefix('topic_')\n",
    "\n",
    "tweet_topic_matrix_df[['tweet', 'tokens']] = df_tweets[['tweet', 'tokens']]\n",
    "tweet_topic_matrix_df.head()"
   ]
  },
  {
   "source": [
    "### Word/Topic Matrix"
   ],
   "cell_type": "markdown",
   "metadata": {}
  },
  {
   "cell_type": "code",
   "execution_count": 66,
   "metadata": {},
   "outputs": [
    {
     "output_type": "execute_result",
     "data": {
      "text/plain": [
       "                 topic_0   topic_1   topic_2\n",
       "aan         0.000000e+00  0.000111  0.000417\n",
       "aapl        0.000000e+00  0.000022  0.000288\n",
       "aave        9.798329e-05  0.000000  0.003653\n",
       "abajo       0.000000e+00  0.000000  0.000419\n",
       "abd         0.000000e+00  0.000000  0.001129\n",
       "...                  ...       ...       ...\n",
       "zrx         1.390053e-04  0.000010  0.002475\n",
       "zuckerberg  1.728993e-07  0.000090  0.000203\n",
       "zukunft     0.000000e+00  0.001072  0.000082\n",
       "zum         0.000000e+00  0.003091  0.001185\n",
       "zur         0.000000e+00  0.000023  0.000167\n",
       "\n",
       "[4160 rows x 3 columns]"
      ],
      "text/html": "<div>\n<style scoped>\n    .dataframe tbody tr th:only-of-type {\n        vertical-align: middle;\n    }\n\n    .dataframe tbody tr th {\n        vertical-align: top;\n    }\n\n    .dataframe thead th {\n        text-align: right;\n    }\n</style>\n<table border=\"1\" class=\"dataframe\">\n  <thead>\n    <tr style=\"text-align: right;\">\n      <th></th>\n      <th>topic_0</th>\n      <th>topic_1</th>\n      <th>topic_2</th>\n    </tr>\n  </thead>\n  <tbody>\n    <tr>\n      <th>aan</th>\n      <td>0.000000e+00</td>\n      <td>0.000111</td>\n      <td>0.000417</td>\n    </tr>\n    <tr>\n      <th>aapl</th>\n      <td>0.000000e+00</td>\n      <td>0.000022</td>\n      <td>0.000288</td>\n    </tr>\n    <tr>\n      <th>aave</th>\n      <td>9.798329e-05</td>\n      <td>0.000000</td>\n      <td>0.003653</td>\n    </tr>\n    <tr>\n      <th>abajo</th>\n      <td>0.000000e+00</td>\n      <td>0.000000</td>\n      <td>0.000419</td>\n    </tr>\n    <tr>\n      <th>abd</th>\n      <td>0.000000e+00</td>\n      <td>0.000000</td>\n      <td>0.001129</td>\n    </tr>\n    <tr>\n      <th>...</th>\n      <td>...</td>\n      <td>...</td>\n      <td>...</td>\n    </tr>\n    <tr>\n      <th>zrx</th>\n      <td>1.390053e-04</td>\n      <td>0.000010</td>\n      <td>0.002475</td>\n    </tr>\n    <tr>\n      <th>zuckerberg</th>\n      <td>1.728993e-07</td>\n      <td>0.000090</td>\n      <td>0.000203</td>\n    </tr>\n    <tr>\n      <th>zukunft</th>\n      <td>0.000000e+00</td>\n      <td>0.001072</td>\n      <td>0.000082</td>\n    </tr>\n    <tr>\n      <th>zum</th>\n      <td>0.000000e+00</td>\n      <td>0.003091</td>\n      <td>0.001185</td>\n    </tr>\n    <tr>\n      <th>zur</th>\n      <td>0.000000e+00</td>\n      <td>0.000023</td>\n      <td>0.000167</td>\n    </tr>\n  </tbody>\n</table>\n<p>4160 rows × 3 columns</p>\n</div>"
     },
     "metadata": {},
     "execution_count": 66
    }
   ],
   "source": [
    "word_topic_matrix_df = pd.DataFrame(nmf.components_, columns=vocab).T.add_prefix('topic_')\n",
    "word_topic_matrix_df"
   ]
  },
  {
   "source": [
    "## Topic Interpretation"
   ],
   "cell_type": "markdown",
   "metadata": {}
  },
  {
   "cell_type": "code",
   "execution_count": 67,
   "metadata": {},
   "outputs": [
    {
     "output_type": "stream",
     "name": "stdout",
     "text": [
      "royal defi airdrop liveclick link participate amazing rewards rld value referral\n\nroyal defi airdrop liveclick link participate amazing rewards rld value referral\n\nroyal defi airdrop liveclick link participate amazing rewards rld value referral\n\nroyal defi airdrop liveclick link participate amazing rewards rld value referral\n\nroyal defi airdrop liveclick link participate amazing rewards rld value referral\n\nroyal defi airdrop liveclick link participate amazing rewards rld value referral\n\nroyal defi airdrop liveclick link participate amazing rewards rld value referral\n\nroyal defi airdrop liveclick link participate amazing rewards rld value referral\n\nroyal defi airdrop liveclick link participate amazing rewards rld value referral\n\nroyal defi airdrop liveclick link participate amazing rewards rld value referral\n\n"
     ]
    }
   ],
   "source": [
    "for tweet in tweet_topic_matrix_df.sort_values(by='topic_0', ascending=False).head(10)['tweet'].values:\n",
    "    print(tweet)\n",
    "    print()"
   ]
  },
  {
   "cell_type": "code",
   "execution_count": 68,
   "metadata": {},
   "outputs": [
    {
     "output_type": "execute_result",
     "data": {
      "text/plain": [
       "              topic_0   topic_1   topic_2\n",
       "liveclick    2.108045  0.000000  0.000000\n",
       "participate  2.103336  0.000000  0.000000\n",
       "rewards      2.102987  0.000000  0.000000\n",
       "airdrop      2.097099  0.000000  0.000000\n",
       "amazing      2.095610  0.007078  0.000000\n",
       "referral     2.087534  0.000000  0.000000\n",
       "value        2.078319  0.000595  0.001055\n",
       "link         2.034350  0.004544  0.016534\n",
       "rld          1.871876  0.000000  0.000000\n",
       "royal        1.864863  0.000000  0.000000"
      ],
      "text/html": "<div>\n<style scoped>\n    .dataframe tbody tr th:only-of-type {\n        vertical-align: middle;\n    }\n\n    .dataframe tbody tr th {\n        vertical-align: top;\n    }\n\n    .dataframe thead th {\n        text-align: right;\n    }\n</style>\n<table border=\"1\" class=\"dataframe\">\n  <thead>\n    <tr style=\"text-align: right;\">\n      <th></th>\n      <th>topic_0</th>\n      <th>topic_1</th>\n      <th>topic_2</th>\n    </tr>\n  </thead>\n  <tbody>\n    <tr>\n      <th>liveclick</th>\n      <td>2.108045</td>\n      <td>0.000000</td>\n      <td>0.000000</td>\n    </tr>\n    <tr>\n      <th>participate</th>\n      <td>2.103336</td>\n      <td>0.000000</td>\n      <td>0.000000</td>\n    </tr>\n    <tr>\n      <th>rewards</th>\n      <td>2.102987</td>\n      <td>0.000000</td>\n      <td>0.000000</td>\n    </tr>\n    <tr>\n      <th>airdrop</th>\n      <td>2.097099</td>\n      <td>0.000000</td>\n      <td>0.000000</td>\n    </tr>\n    <tr>\n      <th>amazing</th>\n      <td>2.095610</td>\n      <td>0.007078</td>\n      <td>0.000000</td>\n    </tr>\n    <tr>\n      <th>referral</th>\n      <td>2.087534</td>\n      <td>0.000000</td>\n      <td>0.000000</td>\n    </tr>\n    <tr>\n      <th>value</th>\n      <td>2.078319</td>\n      <td>0.000595</td>\n      <td>0.001055</td>\n    </tr>\n    <tr>\n      <th>link</th>\n      <td>2.034350</td>\n      <td>0.004544</td>\n      <td>0.016534</td>\n    </tr>\n    <tr>\n      <th>rld</th>\n      <td>1.871876</td>\n      <td>0.000000</td>\n      <td>0.000000</td>\n    </tr>\n    <tr>\n      <th>royal</th>\n      <td>1.864863</td>\n      <td>0.000000</td>\n      <td>0.000000</td>\n    </tr>\n  </tbody>\n</table>\n</div>"
     },
     "metadata": {},
     "execution_count": 68
    }
   ],
   "source": [
    "word_topic_matrix_df.sort_values(by='topic_0', ascending=False).head(10)"
   ]
  },
  {
   "source": [
    "Topic 0: Hype Topics. To get people into buying the coin"
   ],
   "cell_type": "markdown",
   "metadata": {}
  },
  {
   "cell_type": "code",
   "execution_count": 69,
   "metadata": {},
   "outputs": [],
   "source": [
    "def top_tweets(tweet_topic_matrix_df, topic, n_tweets):\n",
    "    return (tweet_topic_matrix_df\n",
    "            .sort_values(by=topic, ascending=False)\n",
    "            .head(n_tweets)['tweet']\n",
    "            .values)\n",
    "\n",
    "def top_words(word_topic_matrix_df, topic, n_words):\n",
    "    return (word_topic_matrix_df\n",
    "            .sort_values(by=topic, ascending=False)\n",
    "            .head(n_words))[topic]"
   ]
  },
  {
   "cell_type": "code",
   "execution_count": 70,
   "metadata": {},
   "outputs": [
    {
     "output_type": "stream",
     "name": "stdout",
     "text": [
      "happy birthday\n\nhappy birthday\n\nhappy birthday\n\nhappy birthday\n\nhappy birthday\n\n"
     ]
    }
   ],
   "source": [
    "for tweet in top_tweets(tweet_topic_matrix_df, 'topic_1', 5):\n",
    "    print(tweet)\n",
    "    print()"
   ]
  },
  {
   "cell_type": "code",
   "execution_count": 71,
   "metadata": {},
   "outputs": [
    {
     "output_type": "execute_result",
     "data": {
      "text/plain": [
       "happy          3.492094\n",
       "birthday       3.102414\n",
       "whitepaper     0.395780\n",
       "day            0.378788\n",
       "paper          0.354764\n",
       "white          0.351577\n",
       "halloween      0.282808\n",
       "anniversary    0.280152\n",
       "years          0.214214\n",
       "today          0.176124\n",
       "Name: topic_1, dtype: float64"
      ]
     },
     "metadata": {},
     "execution_count": 71
    }
   ],
   "source": [
    "top_words(word_topic_matrix_df, 'topic_1', 10)"
   ]
  },
  {
   "source": [
    "Topic 1 is celebrating Bitcoin and when the white paper was initially released"
   ],
   "cell_type": "markdown",
   "metadata": {}
  },
  {
   "cell_type": "code",
   "execution_count": 72,
   "metadata": {},
   "outputs": [
    {
     "output_type": "stream",
     "name": "stdout",
     "text": [
      "spndbuy btc sell btc ratio buy btc sell btc ratio\n\nionbuy btc sell btc ratio buy btc sell btc ratio\n\ndmtbuy btc sell btc ratio buy btc sell btc ratio\n\nognbuy btc sell btc ratio buy btc sell btc ratio\n\naergobuy btc sell btc ratio buy btc sell btc ratio\n\n"
     ]
    }
   ],
   "source": [
    "for tweet in top_tweets(tweet_topic_matrix_df, 'topic_2', 5):\n",
    "    print(tweet)\n",
    "    print()"
   ]
  },
  {
   "cell_type": "code",
   "execution_count": 73,
   "metadata": {},
   "outputs": [
    {
     "output_type": "execute_result",
     "data": {
      "text/plain": [
       "btc       2.818242\n",
       "ratio     1.462762\n",
       "sell      1.448524\n",
       "usdt      0.940838\n",
       "buy       0.514040\n",
       "price     0.344453\n",
       "eth       0.327546\n",
       "usd       0.263664\n",
       "update    0.181511\n",
       "yen       0.150731\n",
       "Name: topic_2, dtype: float64"
      ]
     },
     "metadata": {},
     "execution_count": 73
    }
   ],
   "source": [
    "top_words(word_topic_matrix_df, 'topic_2', 10)"
   ]
  },
  {
   "source": [
    "Topic 3: Seems to be talking about the update on Bitcoins price and what will happen to it "
   ],
   "cell_type": "markdown",
   "metadata": {}
  },
  {
   "cell_type": "code",
   "execution_count": null,
   "metadata": {},
   "outputs": [],
   "source": []
  }
 ]
}