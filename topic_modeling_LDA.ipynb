{
 "metadata": {
  "language_info": {
   "codemirror_mode": {
    "name": "ipython",
    "version": 3
   },
   "file_extension": ".py",
   "mimetype": "text/x-python",
   "name": "python",
   "nbconvert_exporter": "python",
   "pygments_lexer": "ipython3",
   "version": "3.8.5-final"
  },
  "orig_nbformat": 2,
  "kernelspec": {
   "name": "Python 3.8.5 64-bit ('metis': conda)",
   "display_name": "Python 3.8.5 64-bit ('metis': conda)",
   "metadata": {
    "interpreter": {
     "hash": "6c472b8915bc419c743ebcff76dbcf6e203ef99bf90689a3fba2566158d7e07a"
    }
   }
  }
 },
 "nbformat": 4,
 "nbformat_minor": 2,
 "cells": [
  {
   "cell_type": "code",
   "execution_count": 13,
   "metadata": {},
   "outputs": [],
   "source": [
    "import warnings\n",
    "warnings.filterwarnings(\"ignore\", category=DeprecationWarning)\n",
    "\n",
    "# Required Libraries\n",
    "\n",
    "#Base and Cleaning \n",
    "import json\n",
    "import requests\n",
    "import pandas as pd\n",
    "import numpy as np\n",
    "import emoji\n",
    "import regex\n",
    "import re\n",
    "import string\n",
    "from collections import Counter\n",
    "\n",
    "#Visualizations\n",
    "import plotly.express as px\n",
    "import seaborn as sns\n",
    "import matplotlib.pyplot as plt \n",
    "import pyLDAvis.gensim\n",
    "import chart_studio\n",
    "import chart_studio.plotly as py \n",
    "import chart_studio.tools as tls\n",
    "\n",
    "#Natural Language Processing (NLP)\n",
    "import spacy\n",
    "import gensim\n",
    "from spacy.tokenizer import Tokenizer\n",
    "from gensim.corpora import Dictionary\n",
    "from gensim.models.ldamulticore import LdaMulticore\n",
    "from gensim.models.coherencemodel import CoherenceModel\n",
    "from gensim.parsing.preprocessing import STOPWORDS as SW\n",
    "from sklearn.decomposition import LatentDirichletAllocation, TruncatedSVD\n",
    "from sklearn.feature_extraction.text import CountVectorizer, TfidfVectorizer\n",
    "from sklearn.model_selection import GridSearchCV\n",
    "from pprint import pprint\n",
    "from wordcloud import STOPWORDS\n",
    "stopwords = set(STOPWORDS)"
   ]
  },
  {
   "source": [
    "### Data Import"
   ],
   "cell_type": "markdown",
   "metadata": {}
  },
  {
   "cell_type": "code",
   "execution_count": 8,
   "metadata": {},
   "outputs": [
    {
     "output_type": "execute_result",
     "data": {
      "text/plain": [
       "   Unnamed: 0                 date     screen_name  \\\n",
       "0         0.0  2020-10-31 23:58:52   Sarah85381260   \n",
       "1         1.0  2020-10-31 23:59:40       TraderKoz   \n",
       "2         2.0  2020-10-31 23:57:38     Solipsist18   \n",
       "3         3.0  2020-10-31 23:58:01  Yayaya18948871   \n",
       "4         4.0  2020-10-31 23:58:35      k_filippop   \n",
       "\n",
       "                                               tweet                tweet_id  \n",
       "0  Yworld Finance Airdrop is now Live🚀💰🏆\\n\\nClick...  1.3226895270187622e+18  \n",
       "1  What are you doing when #Bitcoin makes a new ATH?  1.3226897280182272e+18  \n",
       "2  #Bitcoin: BTC-USD ( $BTC-USD) UP 2.1721%! Last...  1.3226892163425935e+18  \n",
       "3  Royal Defi Airdrop is now Live🚀💰🏆\\n\\nClick on ...  1.3226893124213391e+18  \n",
       "4                             @BitcoinWhaIe #bitcoin   1.322689456642687e+18  "
      ],
      "text/html": "<div>\n<style scoped>\n    .dataframe tbody tr th:only-of-type {\n        vertical-align: middle;\n    }\n\n    .dataframe tbody tr th {\n        vertical-align: top;\n    }\n\n    .dataframe thead th {\n        text-align: right;\n    }\n</style>\n<table border=\"1\" class=\"dataframe\">\n  <thead>\n    <tr style=\"text-align: right;\">\n      <th></th>\n      <th>Unnamed: 0</th>\n      <th>date</th>\n      <th>screen_name</th>\n      <th>tweet</th>\n      <th>tweet_id</th>\n    </tr>\n  </thead>\n  <tbody>\n    <tr>\n      <th>0</th>\n      <td>0.0</td>\n      <td>2020-10-31 23:58:52</td>\n      <td>Sarah85381260</td>\n      <td>Yworld Finance Airdrop is now Live🚀💰🏆\\n\\nClick...</td>\n      <td>1.3226895270187622e+18</td>\n    </tr>\n    <tr>\n      <th>1</th>\n      <td>1.0</td>\n      <td>2020-10-31 23:59:40</td>\n      <td>TraderKoz</td>\n      <td>What are you doing when #Bitcoin makes a new ATH?</td>\n      <td>1.3226897280182272e+18</td>\n    </tr>\n    <tr>\n      <th>2</th>\n      <td>2.0</td>\n      <td>2020-10-31 23:57:38</td>\n      <td>Solipsist18</td>\n      <td>#Bitcoin: BTC-USD ( $BTC-USD) UP 2.1721%! Last...</td>\n      <td>1.3226892163425935e+18</td>\n    </tr>\n    <tr>\n      <th>3</th>\n      <td>3.0</td>\n      <td>2020-10-31 23:58:01</td>\n      <td>Yayaya18948871</td>\n      <td>Royal Defi Airdrop is now Live🚀💰🏆\\n\\nClick on ...</td>\n      <td>1.3226893124213391e+18</td>\n    </tr>\n    <tr>\n      <th>4</th>\n      <td>4.0</td>\n      <td>2020-10-31 23:58:35</td>\n      <td>k_filippop</td>\n      <td>@BitcoinWhaIe #bitcoin</td>\n      <td>1.322689456642687e+18</td>\n    </tr>\n  </tbody>\n</table>\n</div>"
     },
     "metadata": {},
     "execution_count": 8
    }
   ],
   "source": [
    "df = pd.read_csv('./data/btc_tweets.csv', lineterminator='\\n')\n",
    "df.head()"
   ]
  },
  {
   "cell_type": "code",
   "execution_count": 9,
   "metadata": {},
   "outputs": [
    {
     "output_type": "execute_result",
     "data": {
      "text/plain": [
       "                      date     screen_name  \\\n",
       "0      2020-10-31 23:58:52   Sarah85381260   \n",
       "1      2020-10-31 23:59:40       TraderKoz   \n",
       "2      2020-10-31 23:57:38     Solipsist18   \n",
       "3      2020-10-31 23:58:01  Yayaya18948871   \n",
       "4      2020-10-31 23:58:35      k_filippop   \n",
       "...                    ...             ...   \n",
       "15265  2020-10-31 10:53:04         D40five   \n",
       "15266  2020-10-31 10:52:01        dabildor   \n",
       "15267  2020-10-31 10:54:36          arcbtc   \n",
       "15268  2020-10-31 10:54:42    didar_bekbau   \n",
       "15269  2020-10-31 10:52:29        cityal60   \n",
       "\n",
       "                                         original_tweets  \n",
       "0      Yworld Finance Airdrop is now Live🚀💰🏆\\n\\nClick...  \n",
       "1      What are you doing when #Bitcoin makes a new ATH?  \n",
       "2      #Bitcoin: BTC-USD ( $BTC-USD) UP 2.1721%! Last...  \n",
       "3      Royal Defi Airdrop is now Live🚀💰🏆\\n\\nClick on ...  \n",
       "4                                 @BitcoinWhaIe #bitcoin  \n",
       "...                                                  ...  \n",
       "15265       @ModernInvest Happy #Bitcoin Birthday TMI.!!  \n",
       "15266  Ücretsiz bitcoin kazanmak ister misiniz? Telef...  \n",
       "15267  Happy #bitcoin whitepaper day all!\\n🤩🚀🌑\\nhttps...  \n",
       "15268      Happy Whitepaper Day all my #Bitcoin fam! 🎉🎉🎉  \n",
       "15269  #Bitcoin steadily rising and can see a break o...  \n",
       "\n",
       "[15270 rows x 3 columns]"
      ],
      "text/html": "<div>\n<style scoped>\n    .dataframe tbody tr th:only-of-type {\n        vertical-align: middle;\n    }\n\n    .dataframe tbody tr th {\n        vertical-align: top;\n    }\n\n    .dataframe thead th {\n        text-align: right;\n    }\n</style>\n<table border=\"1\" class=\"dataframe\">\n  <thead>\n    <tr style=\"text-align: right;\">\n      <th></th>\n      <th>date</th>\n      <th>screen_name</th>\n      <th>original_tweets</th>\n    </tr>\n  </thead>\n  <tbody>\n    <tr>\n      <th>0</th>\n      <td>2020-10-31 23:58:52</td>\n      <td>Sarah85381260</td>\n      <td>Yworld Finance Airdrop is now Live🚀💰🏆\\n\\nClick...</td>\n    </tr>\n    <tr>\n      <th>1</th>\n      <td>2020-10-31 23:59:40</td>\n      <td>TraderKoz</td>\n      <td>What are you doing when #Bitcoin makes a new ATH?</td>\n    </tr>\n    <tr>\n      <th>2</th>\n      <td>2020-10-31 23:57:38</td>\n      <td>Solipsist18</td>\n      <td>#Bitcoin: BTC-USD ( $BTC-USD) UP 2.1721%! Last...</td>\n    </tr>\n    <tr>\n      <th>3</th>\n      <td>2020-10-31 23:58:01</td>\n      <td>Yayaya18948871</td>\n      <td>Royal Defi Airdrop is now Live🚀💰🏆\\n\\nClick on ...</td>\n    </tr>\n    <tr>\n      <th>4</th>\n      <td>2020-10-31 23:58:35</td>\n      <td>k_filippop</td>\n      <td>@BitcoinWhaIe #bitcoin</td>\n    </tr>\n    <tr>\n      <th>...</th>\n      <td>...</td>\n      <td>...</td>\n      <td>...</td>\n    </tr>\n    <tr>\n      <th>15265</th>\n      <td>2020-10-31 10:53:04</td>\n      <td>D40five</td>\n      <td>@ModernInvest Happy #Bitcoin Birthday TMI.!!</td>\n    </tr>\n    <tr>\n      <th>15266</th>\n      <td>2020-10-31 10:52:01</td>\n      <td>dabildor</td>\n      <td>Ücretsiz bitcoin kazanmak ister misiniz? Telef...</td>\n    </tr>\n    <tr>\n      <th>15267</th>\n      <td>2020-10-31 10:54:36</td>\n      <td>arcbtc</td>\n      <td>Happy #bitcoin whitepaper day all!\\n🤩🚀🌑\\nhttps...</td>\n    </tr>\n    <tr>\n      <th>15268</th>\n      <td>2020-10-31 10:54:42</td>\n      <td>didar_bekbau</td>\n      <td>Happy Whitepaper Day all my #Bitcoin fam! 🎉🎉🎉</td>\n    </tr>\n    <tr>\n      <th>15269</th>\n      <td>2020-10-31 10:52:29</td>\n      <td>cityal60</td>\n      <td>#Bitcoin steadily rising and can see a break o...</td>\n    </tr>\n  </tbody>\n</table>\n<p>15270 rows × 3 columns</p>\n</div>"
     },
     "metadata": {},
     "execution_count": 9
    }
   ],
   "source": [
    "df = df.rename(columns={'tweet':'original_tweets'})\n",
    "df = df.drop(['Unnamed: 0','tweet_id'], axis=1)\n",
    "df"
   ]
  },
  {
   "source": [
    "### Data Cleaning"
   ],
   "cell_type": "markdown",
   "metadata": {}
  },
  {
   "cell_type": "code",
   "execution_count": 10,
   "metadata": {},
   "outputs": [],
   "source": [
    "def give_emoji_free_text(text):\n",
    "    \"\"\"\n",
    "    Removes emoji's from tweets\n",
    "    Accepts:\n",
    "        Text (tweets)\n",
    "    Returns:\n",
    "        Text (emoji free tweets)\n",
    "    \"\"\"\n",
    "    emoji_list = [c for c in text if c in emoji.UNICODE_EMOJI]\n",
    "    clean_text = ' '.join([str for str in text.split() if not any(i in str for i in emoji_list)])\n",
    "    return clean_text\n",
    "\n",
    "def url_free_text(text):\n",
    "    '''\n",
    "    Cleans text from urls\n",
    "    '''\n",
    "    text = re.sub(r'http\\S+', '', text)\n",
    "    return text\n",
    "\n",
    "# Apply the function above and get tweets free of emoji's\n",
    "call_emoji_free = lambda x: give_emoji_free_text(x)\n",
    "\n",
    "# Apply `call_emoji_free` which calls the function to remove all emoji's\n",
    "df['emoji_free_tweets'] = df['original_tweets'].apply(call_emoji_free)\n",
    "\n",
    "#Create a new column with url free tweets\n",
    "df['url_free_tweets'] = df['emoji_free_tweets'].apply(url_free_text)"
   ]
  },
  {
   "cell_type": "code",
   "execution_count": 11,
   "metadata": {},
   "outputs": [
    {
     "output_type": "execute_result",
     "data": {
      "text/plain": [
       "                  date     screen_name  \\\n",
       "0  2020-10-31 23:58:52   Sarah85381260   \n",
       "1  2020-10-31 23:59:40       TraderKoz   \n",
       "2  2020-10-31 23:57:38     Solipsist18   \n",
       "3  2020-10-31 23:58:01  Yayaya18948871   \n",
       "4  2020-10-31 23:58:35      k_filippop   \n",
       "\n",
       "                                     original_tweets  \\\n",
       "0  Yworld Finance Airdrop is now Live🚀💰🏆\\n\\nClick...   \n",
       "1  What are you doing when #Bitcoin makes a new ATH?   \n",
       "2  #Bitcoin: BTC-USD ( $BTC-USD) UP 2.1721%! Last...   \n",
       "3  Royal Defi Airdrop is now Live🚀💰🏆\\n\\nClick on ...   \n",
       "4                             @BitcoinWhaIe #bitcoin   \n",
       "\n",
       "                                   emoji_free_tweets  \\\n",
       "0  Yworld Finance Airdrop is now Click on below l...   \n",
       "1  What are you doing when #Bitcoin makes a new ATH?   \n",
       "2  #Bitcoin: BTC-USD ( $BTC-USD) UP 2.1721%! Last...   \n",
       "3  Royal Defi Airdrop is now Click on below link ...   \n",
       "4                             @BitcoinWhaIe #bitcoin   \n",
       "\n",
       "                                     url_free_tweets  \n",
       "0  Yworld Finance Airdrop is now Click on below l...  \n",
       "1  What are you doing when #Bitcoin makes a new ATH?  \n",
       "2  #Bitcoin: BTC-USD ( $BTC-USD) UP 2.1721%! Last...  \n",
       "3  Royal Defi Airdrop is now Click on below link ...  \n",
       "4                             @BitcoinWhaIe #bitcoin  "
      ],
      "text/html": "<div>\n<style scoped>\n    .dataframe tbody tr th:only-of-type {\n        vertical-align: middle;\n    }\n\n    .dataframe tbody tr th {\n        vertical-align: top;\n    }\n\n    .dataframe thead th {\n        text-align: right;\n    }\n</style>\n<table border=\"1\" class=\"dataframe\">\n  <thead>\n    <tr style=\"text-align: right;\">\n      <th></th>\n      <th>date</th>\n      <th>screen_name</th>\n      <th>original_tweets</th>\n      <th>emoji_free_tweets</th>\n      <th>url_free_tweets</th>\n    </tr>\n  </thead>\n  <tbody>\n    <tr>\n      <th>0</th>\n      <td>2020-10-31 23:58:52</td>\n      <td>Sarah85381260</td>\n      <td>Yworld Finance Airdrop is now Live🚀💰🏆\\n\\nClick...</td>\n      <td>Yworld Finance Airdrop is now Click on below l...</td>\n      <td>Yworld Finance Airdrop is now Click on below l...</td>\n    </tr>\n    <tr>\n      <th>1</th>\n      <td>2020-10-31 23:59:40</td>\n      <td>TraderKoz</td>\n      <td>What are you doing when #Bitcoin makes a new ATH?</td>\n      <td>What are you doing when #Bitcoin makes a new ATH?</td>\n      <td>What are you doing when #Bitcoin makes a new ATH?</td>\n    </tr>\n    <tr>\n      <th>2</th>\n      <td>2020-10-31 23:57:38</td>\n      <td>Solipsist18</td>\n      <td>#Bitcoin: BTC-USD ( $BTC-USD) UP 2.1721%! Last...</td>\n      <td>#Bitcoin: BTC-USD ( $BTC-USD) UP 2.1721%! Last...</td>\n      <td>#Bitcoin: BTC-USD ( $BTC-USD) UP 2.1721%! Last...</td>\n    </tr>\n    <tr>\n      <th>3</th>\n      <td>2020-10-31 23:58:01</td>\n      <td>Yayaya18948871</td>\n      <td>Royal Defi Airdrop is now Live🚀💰🏆\\n\\nClick on ...</td>\n      <td>Royal Defi Airdrop is now Click on below link ...</td>\n      <td>Royal Defi Airdrop is now Click on below link ...</td>\n    </tr>\n    <tr>\n      <th>4</th>\n      <td>2020-10-31 23:58:35</td>\n      <td>k_filippop</td>\n      <td>@BitcoinWhaIe #bitcoin</td>\n      <td>@BitcoinWhaIe #bitcoin</td>\n      <td>@BitcoinWhaIe #bitcoin</td>\n    </tr>\n  </tbody>\n</table>\n</div>"
     },
     "metadata": {},
     "execution_count": 11
    }
   ],
   "source": [
    "df.head()"
   ]
  },
  {
   "source": [
    "### Tokenization"
   ],
   "cell_type": "markdown",
   "metadata": {}
  },
  {
   "cell_type": "code",
   "execution_count": 16,
   "metadata": {},
   "outputs": [
    {
     "output_type": "error",
     "ename": "ModuleNotFoundError",
     "evalue": "No module named 'en_core_web_lg'",
     "traceback": [
      "\u001b[0;31m---------------------------------------------------------------------------\u001b[0m",
      "\u001b[0;31mModuleNotFoundError\u001b[0m                       Traceback (most recent call last)",
      "\u001b[0;32m<ipython-input-16-4dbc5802d9f0>\u001b[0m in \u001b[0;36m<module>\u001b[0;34m\u001b[0m\n\u001b[1;32m      1\u001b[0m \u001b[0;31m# Load spacy\u001b[0m\u001b[0;34m\u001b[0m\u001b[0;34m\u001b[0m\u001b[0;34m\u001b[0m\u001b[0m\n\u001b[1;32m      2\u001b[0m \u001b[0;31m# Make sure to restart the runtime after running installations and libraries tab\u001b[0m\u001b[0;34m\u001b[0m\u001b[0;34m\u001b[0m\u001b[0;34m\u001b[0m\u001b[0m\n\u001b[0;32m----> 3\u001b[0;31m \u001b[0;32mimport\u001b[0m \u001b[0men_core_web_lg\u001b[0m\u001b[0;34m\u001b[0m\u001b[0;34m\u001b[0m\u001b[0m\n\u001b[0m\u001b[1;32m      4\u001b[0m \u001b[0mnlp\u001b[0m \u001b[0;34m=\u001b[0m \u001b[0men_core_web_lg\u001b[0m\u001b[0;34m.\u001b[0m\u001b[0mload\u001b[0m\u001b[0;34m(\u001b[0m\u001b[0;34m)\u001b[0m\u001b[0;34m\u001b[0m\u001b[0;34m\u001b[0m\u001b[0m\n\u001b[1;32m      5\u001b[0m \u001b[0;31m# nlp = spacy.load('en_core_web_lg')\u001b[0m\u001b[0;34m\u001b[0m\u001b[0;34m\u001b[0m\u001b[0;34m\u001b[0m\u001b[0m\n",
      "\u001b[0;31mModuleNotFoundError\u001b[0m: No module named 'en_core_web_lg'"
     ]
    }
   ],
   "source": [
    "# Load spacy\n",
    "# Make sure to restart the runtime after running installations and libraries tab\n",
    "import en_core_web_lg\n",
    "nlp = en_core_web_lg.load()\n",
    "# nlp = spacy.load('en_core_web_lg')"
   ]
  },
  {
   "cell_type": "code",
   "execution_count": null,
   "metadata": {},
   "outputs": [],
   "source": [
    "# Tokenizer\n",
    "tokenizer = Tokenizer(nlp.vocab)\n",
    "\n",
    "\n",
    "# Custom stopwords\n",
    "custom_stopwords = ['hi','\\n','\\n\\n', '&amp;', ' ', '.', '-', 'got', \"it's\", 'it’s', \"i'm\", 'i’m', 'im', 'want', 'like', '$', '@']\n",
    "\n",
    "# Customize stop words by adding to the default list\n",
    "STOP_WORDS = nlp.Defaults.stop_words.union(custom_stopwords)\n",
    "\n",
    "# ALL_STOP_WORDS = spacy + gensim + wordcloud\n",
    "ALL_STOP_WORDS = STOP_WORDS.union(SW).union(stopwords)\n",
    "\n",
    "\n",
    "tokens = []\n",
    "\n",
    "for doc in tokenizer.pipe(df['url_free_tweets'], batch_size=500):\n",
    "    doc_tokens = []    \n",
    "    for token in doc: \n",
    "        if token.text.lower() not in STOP_WORDS:\n",
    "            doc_tokens.append(token.text.lower())   \n",
    "    tokens.append(doc_tokens)\n",
    "\n",
    "# Makes tokens column\n",
    "df['tokens'] = tokens"
   ]
  }
 ]
}